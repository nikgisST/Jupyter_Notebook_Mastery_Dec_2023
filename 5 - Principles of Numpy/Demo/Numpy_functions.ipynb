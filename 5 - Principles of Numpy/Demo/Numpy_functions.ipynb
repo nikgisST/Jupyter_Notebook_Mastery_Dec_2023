{
 "cells": [
  {
   "cell_type": "code",
   "execution_count": 1,
   "id": "d51e6b40",
   "metadata": {},
   "outputs": [
    {
     "ename": "ModuleNotFoundError",
     "evalue": "No module named 'matplotlib'",
     "output_type": "error",
     "traceback": [
      "\u001b[1;31m---------------------------------------------------------------------------\u001b[0m",
      "\u001b[1;31mModuleNotFoundError\u001b[0m                       Traceback (most recent call last)",
      "Cell \u001b[1;32mIn[1], line 1\u001b[0m\n\u001b[1;32m----> 1\u001b[0m \u001b[43mget_ipython\u001b[49m\u001b[43m(\u001b[49m\u001b[43m)\u001b[49m\u001b[38;5;241;43m.\u001b[39;49m\u001b[43mrun_line_magic\u001b[49m\u001b[43m(\u001b[49m\u001b[38;5;124;43m'\u001b[39;49m\u001b[38;5;124;43mmatplotlib\u001b[39;49m\u001b[38;5;124;43m'\u001b[39;49m\u001b[43m,\u001b[49m\u001b[43m \u001b[49m\u001b[38;5;124;43m'\u001b[39;49m\u001b[38;5;124;43minline\u001b[39;49m\u001b[38;5;124;43m'\u001b[39;49m\u001b[43m)\u001b[49m\n",
      "File \u001b[1;32m~\\AppData\\Local\\Packages\\PythonSoftwareFoundation.Python.3.10_qbz5n2kfra8p0\\LocalCache\\local-packages\\Python310\\site-packages\\IPython\\core\\interactiveshell.py:2456\u001b[0m, in \u001b[0;36mInteractiveShell.run_line_magic\u001b[1;34m(self, magic_name, line, _stack_depth)\u001b[0m\n\u001b[0;32m   2454\u001b[0m     kwargs[\u001b[38;5;124m'\u001b[39m\u001b[38;5;124mlocal_ns\u001b[39m\u001b[38;5;124m'\u001b[39m] \u001b[38;5;241m=\u001b[39m \u001b[38;5;28mself\u001b[39m\u001b[38;5;241m.\u001b[39mget_local_scope(stack_depth)\n\u001b[0;32m   2455\u001b[0m \u001b[38;5;28;01mwith\u001b[39;00m \u001b[38;5;28mself\u001b[39m\u001b[38;5;241m.\u001b[39mbuiltin_trap:\n\u001b[1;32m-> 2456\u001b[0m     result \u001b[38;5;241m=\u001b[39m fn(\u001b[38;5;241m*\u001b[39margs, \u001b[38;5;241m*\u001b[39m\u001b[38;5;241m*\u001b[39mkwargs)\n\u001b[0;32m   2458\u001b[0m \u001b[38;5;66;03m# The code below prevents the output from being displayed\u001b[39;00m\n\u001b[0;32m   2459\u001b[0m \u001b[38;5;66;03m# when using magics with decorator @output_can_be_silenced\u001b[39;00m\n\u001b[0;32m   2460\u001b[0m \u001b[38;5;66;03m# when the last Python token in the expression is a ';'.\u001b[39;00m\n\u001b[0;32m   2461\u001b[0m \u001b[38;5;28;01mif\u001b[39;00m \u001b[38;5;28mgetattr\u001b[39m(fn, magic\u001b[38;5;241m.\u001b[39mMAGIC_OUTPUT_CAN_BE_SILENCED, \u001b[38;5;28;01mFalse\u001b[39;00m):\n",
      "File \u001b[1;32m~\\AppData\\Local\\Packages\\PythonSoftwareFoundation.Python.3.10_qbz5n2kfra8p0\\LocalCache\\local-packages\\Python310\\site-packages\\IPython\\core\\magics\\pylab.py:99\u001b[0m, in \u001b[0;36mPylabMagics.matplotlib\u001b[1;34m(self, line)\u001b[0m\n\u001b[0;32m     97\u001b[0m     \u001b[38;5;28mprint\u001b[39m(\u001b[38;5;124m\"\u001b[39m\u001b[38;5;124mAvailable matplotlib backends: \u001b[39m\u001b[38;5;132;01m%s\u001b[39;00m\u001b[38;5;124m\"\u001b[39m \u001b[38;5;241m%\u001b[39m backends_list)\n\u001b[0;32m     98\u001b[0m \u001b[38;5;28;01melse\u001b[39;00m:\n\u001b[1;32m---> 99\u001b[0m     gui, backend \u001b[38;5;241m=\u001b[39m \u001b[38;5;28;43mself\u001b[39;49m\u001b[38;5;241;43m.\u001b[39;49m\u001b[43mshell\u001b[49m\u001b[38;5;241;43m.\u001b[39;49m\u001b[43menable_matplotlib\u001b[49m\u001b[43m(\u001b[49m\u001b[43margs\u001b[49m\u001b[38;5;241;43m.\u001b[39;49m\u001b[43mgui\u001b[49m\u001b[38;5;241;43m.\u001b[39;49m\u001b[43mlower\u001b[49m\u001b[43m(\u001b[49m\u001b[43m)\u001b[49m\u001b[43m \u001b[49m\u001b[38;5;28;43;01mif\u001b[39;49;00m\u001b[43m \u001b[49m\u001b[38;5;28;43misinstance\u001b[39;49m\u001b[43m(\u001b[49m\u001b[43margs\u001b[49m\u001b[38;5;241;43m.\u001b[39;49m\u001b[43mgui\u001b[49m\u001b[43m,\u001b[49m\u001b[43m \u001b[49m\u001b[38;5;28;43mstr\u001b[39;49m\u001b[43m)\u001b[49m\u001b[43m \u001b[49m\u001b[38;5;28;43;01melse\u001b[39;49;00m\u001b[43m \u001b[49m\u001b[43margs\u001b[49m\u001b[38;5;241;43m.\u001b[39;49m\u001b[43mgui\u001b[49m\u001b[43m)\u001b[49m\n\u001b[0;32m    100\u001b[0m     \u001b[38;5;28mself\u001b[39m\u001b[38;5;241m.\u001b[39m_show_matplotlib_backend(args\u001b[38;5;241m.\u001b[39mgui, backend)\n",
      "File \u001b[1;32m~\\AppData\\Local\\Packages\\PythonSoftwareFoundation.Python.3.10_qbz5n2kfra8p0\\LocalCache\\local-packages\\Python310\\site-packages\\IPython\\core\\interactiveshell.py:3630\u001b[0m, in \u001b[0;36mInteractiveShell.enable_matplotlib\u001b[1;34m(self, gui)\u001b[0m\n\u001b[0;32m   3609\u001b[0m \u001b[38;5;28;01mdef\u001b[39;00m \u001b[38;5;21menable_matplotlib\u001b[39m(\u001b[38;5;28mself\u001b[39m, gui\u001b[38;5;241m=\u001b[39m\u001b[38;5;28;01mNone\u001b[39;00m):\n\u001b[0;32m   3610\u001b[0m \u001b[38;5;250m    \u001b[39m\u001b[38;5;124;03m\"\"\"Enable interactive matplotlib and inline figure support.\u001b[39;00m\n\u001b[0;32m   3611\u001b[0m \n\u001b[0;32m   3612\u001b[0m \u001b[38;5;124;03m    This takes the following steps:\u001b[39;00m\n\u001b[1;32m   (...)\u001b[0m\n\u001b[0;32m   3628\u001b[0m \u001b[38;5;124;03m        display figures inline.\u001b[39;00m\n\u001b[0;32m   3629\u001b[0m \u001b[38;5;124;03m    \"\"\"\u001b[39;00m\n\u001b[1;32m-> 3630\u001b[0m     \u001b[38;5;28;01mfrom\u001b[39;00m \u001b[38;5;21;01mmatplotlib_inline\u001b[39;00m\u001b[38;5;21;01m.\u001b[39;00m\u001b[38;5;21;01mbackend_inline\u001b[39;00m \u001b[38;5;28;01mimport\u001b[39;00m configure_inline_support\n\u001b[0;32m   3632\u001b[0m     \u001b[38;5;28;01mfrom\u001b[39;00m \u001b[38;5;21;01mIPython\u001b[39;00m\u001b[38;5;21;01m.\u001b[39;00m\u001b[38;5;21;01mcore\u001b[39;00m \u001b[38;5;28;01mimport\u001b[39;00m pylabtools \u001b[38;5;28;01mas\u001b[39;00m pt\n\u001b[0;32m   3633\u001b[0m     gui, backend \u001b[38;5;241m=\u001b[39m pt\u001b[38;5;241m.\u001b[39mfind_gui_and_backend(gui, \u001b[38;5;28mself\u001b[39m\u001b[38;5;241m.\u001b[39mpylab_gui_select)\n",
      "File \u001b[1;32m~\\AppData\\Local\\Packages\\PythonSoftwareFoundation.Python.3.10_qbz5n2kfra8p0\\LocalCache\\local-packages\\Python310\\site-packages\\matplotlib_inline\\__init__.py:1\u001b[0m\n\u001b[1;32m----> 1\u001b[0m \u001b[38;5;28;01mfrom\u001b[39;00m \u001b[38;5;21;01m.\u001b[39;00m \u001b[38;5;28;01mimport\u001b[39;00m backend_inline, config  \u001b[38;5;66;03m# noqa\u001b[39;00m\n\u001b[0;32m      2\u001b[0m __version__ \u001b[38;5;241m=\u001b[39m \u001b[38;5;124m\"\u001b[39m\u001b[38;5;124m0.1.6\u001b[39m\u001b[38;5;124m\"\u001b[39m  \u001b[38;5;66;03m# noqa\u001b[39;00m\n",
      "File \u001b[1;32m~\\AppData\\Local\\Packages\\PythonSoftwareFoundation.Python.3.10_qbz5n2kfra8p0\\LocalCache\\local-packages\\Python310\\site-packages\\matplotlib_inline\\backend_inline.py:6\u001b[0m\n\u001b[0;32m      1\u001b[0m \u001b[38;5;124;03m\"\"\"A matplotlib backend for publishing figures via display_data\"\"\"\u001b[39;00m\n\u001b[0;32m      3\u001b[0m \u001b[38;5;66;03m# Copyright (c) IPython Development Team.\u001b[39;00m\n\u001b[0;32m      4\u001b[0m \u001b[38;5;66;03m# Distributed under the terms of the BSD 3-Clause License.\u001b[39;00m\n\u001b[1;32m----> 6\u001b[0m \u001b[38;5;28;01mimport\u001b[39;00m \u001b[38;5;21;01mmatplotlib\u001b[39;00m\n\u001b[0;32m      7\u001b[0m \u001b[38;5;28;01mfrom\u001b[39;00m \u001b[38;5;21;01mmatplotlib\u001b[39;00m \u001b[38;5;28;01mimport\u001b[39;00m colors\n\u001b[0;32m      8\u001b[0m \u001b[38;5;28;01mfrom\u001b[39;00m \u001b[38;5;21;01mmatplotlib\u001b[39;00m\u001b[38;5;21;01m.\u001b[39;00m\u001b[38;5;21;01mbackends\u001b[39;00m \u001b[38;5;28;01mimport\u001b[39;00m backend_agg\n",
      "\u001b[1;31mModuleNotFoundError\u001b[0m: No module named 'matplotlib'"
     ]
    }
   ],
   "source": [
    "%matplotlib inline"
   ]
  },
  {
   "cell_type": "code",
   "execution_count": 3,
   "id": "22f891ed",
   "metadata": {},
   "outputs": [
    {
     "ename": "ModuleNotFoundError",
     "evalue": "No module named 'matplotlib'",
     "output_type": "error",
     "traceback": [
      "\u001b[1;31m---------------------------------------------------------------------------\u001b[0m",
      "\u001b[1;31mModuleNotFoundError\u001b[0m                       Traceback (most recent call last)",
      "Cell \u001b[1;32mIn[3], line 2\u001b[0m\n\u001b[0;32m      1\u001b[0m \u001b[38;5;28;01mimport\u001b[39;00m \u001b[38;5;21;01mnumpy\u001b[39;00m \u001b[38;5;28;01mas\u001b[39;00m \u001b[38;5;21;01mnp\u001b[39;00m\n\u001b[1;32m----> 2\u001b[0m \u001b[38;5;28;01mimport\u001b[39;00m \u001b[38;5;21;01mmatplotlib\u001b[39;00m\u001b[38;5;21;01m.\u001b[39;00m\u001b[38;5;21;01mpyplot\u001b[39;00m \u001b[38;5;28;01mas\u001b[39;00m \u001b[38;5;21;01mplt\u001b[39;00m\n\u001b[0;32m      3\u001b[0m \u001b[38;5;28;01mimport\u001b[39;00m \u001b[38;5;21;01msys\u001b[39;00m\n",
      "\u001b[1;31mModuleNotFoundError\u001b[0m: No module named 'matplotlib'"
     ]
    }
   ],
   "source": [
    "import numpy as np\n",
    "import matplotlib.pyplot as plt\n",
    "import sys"
   ]
  },
  {
   "cell_type": "markdown",
   "id": "11543aaf",
   "metadata": {},
   "source": [
    "# The basics"
   ]
  },
  {
   "cell_type": "code",
   "execution_count": 2,
   "id": "fb6d3a86",
   "metadata": {},
   "outputs": [
    {
     "ename": "NameError",
     "evalue": "name 'np' is not defined",
     "output_type": "error",
     "traceback": [
      "\u001b[1;31m---------------------------------------------------------------------------\u001b[0m",
      "\u001b[1;31mNameError\u001b[0m                                 Traceback (most recent call last)",
      "Cell \u001b[1;32mIn[2], line 1\u001b[0m\n\u001b[1;32m----> 1\u001b[0m oned_array \u001b[38;5;241m=\u001b[39m \u001b[43mnp\u001b[49m\u001b[38;5;241m.\u001b[39marray([\u001b[38;5;241m1\u001b[39m, \u001b[38;5;241m2\u001b[39m, \u001b[38;5;241m3\u001b[39m, \u001b[38;5;241m4\u001b[39m], dtype\u001b[38;5;241m=\u001b[39m\u001b[38;5;124m'\u001b[39m\u001b[38;5;124mint64\u001b[39m\u001b[38;5;124m'\u001b[39m)\n\u001b[0;32m      2\u001b[0m \u001b[38;5;28mprint\u001b[39m(oned_array)\n",
      "\u001b[1;31mNameError\u001b[0m: name 'np' is not defined"
     ]
    }
   ],
   "source": [
    "oned_array = np.array([1, 2, 3, 4], dtype='int64')\n",
    "print(oned_array)"
   ]
  },
  {
   "cell_type": "code",
   "execution_count": null,
   "id": "633ff534",
   "metadata": {},
   "outputs": [],
   "source": [
    "lst = [2, 3, 4]\n",
    "lst"
   ]
  },
  {
   "cell_type": "code",
   "execution_count": null,
   "id": "a283b610",
   "metadata": {},
   "outputs": [],
   "source": [
    "twod_array = np.array([[3, 4, 5],\n",
    "                      [9, 8, 7]])\n",
    "twod_array"
   ]
  },
  {
   "cell_type": "code",
   "execution_count": null,
   "id": "398dc694",
   "metadata": {},
   "outputs": [],
   "source": [
    "oned_array.ndim"
   ]
  },
  {
   "cell_type": "code",
   "execution_count": null,
   "id": "5ddfe0e0",
   "metadata": {},
   "outputs": [],
   "source": [
    "twod_array.ndim"
   ]
  },
  {
   "cell_type": "code",
   "execution_count": null,
   "id": "6154a001",
   "metadata": {},
   "outputs": [],
   "source": [
    "oned_array"
   ]
  },
  {
   "cell_type": "code",
   "execution_count": null,
   "id": "d2e7dca4",
   "metadata": {},
   "outputs": [],
   "source": [
    "oned_array.shape"
   ]
  },
  {
   "cell_type": "code",
   "execution_count": null,
   "id": "4dd050fb",
   "metadata": {},
   "outputs": [],
   "source": [
    "twod_array"
   ]
  },
  {
   "cell_type": "code",
   "execution_count": null,
   "id": "6d4e25dc",
   "metadata": {},
   "outputs": [],
   "source": [
    "twod_array.shape"
   ]
  },
  {
   "cell_type": "code",
   "execution_count": null,
   "id": "f49929c8",
   "metadata": {},
   "outputs": [],
   "source": [
    "oned_array.dtype"
   ]
  },
  {
   "cell_type": "code",
   "execution_count": null,
   "id": "796f9ebc",
   "metadata": {},
   "outputs": [],
   "source": [
    "# returns the size of an item in bytes\n",
    "oned_array.itemsize"
   ]
  },
  {
   "cell_type": "code",
   "execution_count": null,
   "id": "8ab97332",
   "metadata": {},
   "outputs": [],
   "source": [
    "# returns the size of the whole array in bytes\n",
    "oned_array.nbytes"
   ]
  },
  {
   "cell_type": "code",
   "execution_count": null,
   "id": "d2d00e0a",
   "metadata": {},
   "outputs": [],
   "source": [
    "oned_array.size"
   ]
  },
  {
   "cell_type": "markdown",
   "id": "c6790339",
   "metadata": {},
   "source": [
    "# Accesing arrays"
   ]
  },
  {
   "cell_type": "code",
   "execution_count": null,
   "id": "5c136fe3",
   "metadata": {},
   "outputs": [],
   "source": [
    "arr = np.array([2, 7, 9, 4, 4, 6])"
   ]
  },
  {
   "cell_type": "code",
   "execution_count": null,
   "id": "207ac473",
   "metadata": {},
   "outputs": [],
   "source": [
    "arr[1:4:2]"
   ]
  },
  {
   "cell_type": "code",
   "execution_count": null,
   "id": "59b6ddb3",
   "metadata": {},
   "outputs": [],
   "source": [
    "arr[1:3]"
   ]
  },
  {
   "cell_type": "code",
   "execution_count": null,
   "id": "99d1cd21",
   "metadata": {},
   "outputs": [],
   "source": [
    "multidim_array = np.array([[12, 31, 24, 52, 98],\n",
    "                         [34, 1, 23, 87, 76]])"
   ]
  },
  {
   "cell_type": "code",
   "execution_count": null,
   "id": "99a79994",
   "metadata": {},
   "outputs": [],
   "source": [
    "multidim_array.shape"
   ]
  },
  {
   "cell_type": "code",
   "execution_count": null,
   "id": "03a4818a",
   "metadata": {},
   "outputs": [],
   "source": [
    "multidim_array.shape"
   ]
  },
  {
   "cell_type": "code",
   "execution_count": null,
   "id": "2f8672d3",
   "metadata": {},
   "outputs": [],
   "source": [
    "multidim_array[1, 4]"
   ]
  },
  {
   "cell_type": "code",
   "execution_count": null,
   "id": "e2aeb5ce",
   "metadata": {},
   "outputs": [],
   "source": [
    "# get only one columns\n",
    "multidim_array[:, 2]"
   ]
  },
  {
   "cell_type": "code",
   "execution_count": null,
   "id": "2e9a89e4",
   "metadata": {},
   "outputs": [],
   "source": [
    "# get only one row\n",
    "multidim_array[1, :]"
   ]
  },
  {
   "cell_type": "markdown",
   "id": "e17479d1",
   "metadata": {},
   "source": [
    "# Initialize different types of arrays"
   ]
  },
  {
   "cell_type": "code",
   "execution_count": 4,
   "id": "09f84657",
   "metadata": {},
   "outputs": [
    {
     "data": {
      "text/plain": [
       "array([0., 0., 0., 0.])"
      ]
     },
     "execution_count": 4,
     "metadata": {},
     "output_type": "execute_result"
    }
   ],
   "source": [
    "np.zeros(4)"
   ]
  },
  {
   "cell_type": "code",
   "execution_count": 5,
   "id": "907cd246",
   "metadata": {},
   "outputs": [
    {
     "data": {
      "text/plain": [
       "array([[0., 0., 0.],\n",
       "       [0., 0., 0.]])"
      ]
     },
     "execution_count": 5,
     "metadata": {},
     "output_type": "execute_result"
    }
   ],
   "source": [
    "np.zeros((2, 3))"
   ]
  },
  {
   "cell_type": "code",
   "execution_count": null,
   "id": "3701f505",
   "metadata": {},
   "outputs": [],
   "source": [
    "np.ones((3, 2, 5))"
   ]
  },
  {
   "cell_type": "code",
   "execution_count": null,
   "id": "747d2fa4",
   "metadata": {},
   "outputs": [],
   "source": [
    "np.full((2, 2), 100)"
   ]
  },
  {
   "cell_type": "code",
   "execution_count": null,
   "id": "d6f98835",
   "metadata": {},
   "outputs": [],
   "source": [
    "np.full_like(multidim_array, 100)"
   ]
  },
  {
   "cell_type": "code",
   "execution_count": null,
   "id": "ee7d3a20",
   "metadata": {},
   "outputs": [],
   "source": [
    "np.random.randn(10)"
   ]
  },
  {
   "cell_type": "code",
   "execution_count": null,
   "id": "d875c794",
   "metadata": {},
   "outputs": [],
   "source": [
    "np.random.rand(10)"
   ]
  },
  {
   "cell_type": "code",
   "execution_count": null,
   "id": "f36577aa",
   "metadata": {},
   "outputs": [],
   "source": [
    "np.random.seed(42)\n",
    "np.random.randint(50, 100)"
   ]
  },
  {
   "cell_type": "code",
   "execution_count": null,
   "id": "4b846c05",
   "metadata": {},
   "outputs": [],
   "source": [
    "np.random.randint(50, 100, size=(3, 3))"
   ]
  },
  {
   "cell_type": "code",
   "execution_count": null,
   "id": "44afc7a3",
   "metadata": {},
   "outputs": [],
   "source": [
    "np.eye(3)"
   ]
  },
  {
   "cell_type": "markdown",
   "id": "1ae023af",
   "metadata": {},
   "source": [
    "# Maths"
   ]
  },
  {
   "cell_type": "code",
   "execution_count": null,
   "id": "3ba891b4",
   "metadata": {},
   "outputs": [],
   "source": [
    "my_arr = np.array([2, 3, 8, 12, 0])"
   ]
  },
  {
   "cell_type": "code",
   "execution_count": null,
   "id": "1afb9ffd",
   "metadata": {},
   "outputs": [],
   "source": [
    "my_arr + 2"
   ]
  },
  {
   "cell_type": "code",
   "execution_count": null,
   "id": "9805a747",
   "metadata": {},
   "outputs": [],
   "source": [
    "my_arr - 2"
   ]
  },
  {
   "cell_type": "code",
   "execution_count": null,
   "id": "06d049dc",
   "metadata": {},
   "outputs": [],
   "source": [
    "my_arr / 2"
   ]
  },
  {
   "cell_type": "code",
   "execution_count": null,
   "id": "e3b0cbcb",
   "metadata": {},
   "outputs": [],
   "source": [
    "my_arr * 2"
   ]
  },
  {
   "cell_type": "code",
   "execution_count": null,
   "id": "3f987ddf",
   "metadata": {},
   "outputs": [],
   "source": [
    "my_arr ** 2"
   ]
  },
  {
   "cell_type": "code",
   "execution_count": null,
   "id": "e8548e8d",
   "metadata": {},
   "outputs": [],
   "source": [
    "your_arr = np.array([4, 3, -1, 9, 12])"
   ]
  },
  {
   "cell_type": "code",
   "execution_count": null,
   "id": "8e7e65e0",
   "metadata": {},
   "outputs": [],
   "source": [
    "my_arr"
   ]
  },
  {
   "cell_type": "code",
   "execution_count": null,
   "id": "627bc008",
   "metadata": {},
   "outputs": [],
   "source": [
    "my_arr + your_arr"
   ]
  },
  {
   "cell_type": "code",
   "execution_count": null,
   "id": "04eda00d",
   "metadata": {},
   "outputs": [],
   "source": [
    "my_arr - your_arr"
   ]
  },
  {
   "cell_type": "code",
   "execution_count": null,
   "id": "7d22fbf0",
   "metadata": {},
   "outputs": [],
   "source": [
    "my_arr * your_arr"
   ]
  },
  {
   "cell_type": "code",
   "execution_count": null,
   "id": "fe263e5f",
   "metadata": {},
   "outputs": [],
   "source": [
    "my_arr / your_arr"
   ]
  },
  {
   "cell_type": "code",
   "execution_count": null,
   "id": "4c6b1bad",
   "metadata": {},
   "outputs": [],
   "source": [
    "np.sin(my_arr)"
   ]
  },
  {
   "cell_type": "markdown",
   "id": "d6e0f7cb",
   "metadata": {},
   "source": [
    "# Linear algebra"
   ]
  },
  {
   "cell_type": "code",
   "execution_count": null,
   "id": "8a2e6aa5",
   "metadata": {},
   "outputs": [],
   "source": [
    "mat1 = np.ones((2,3))\n",
    "mat1"
   ]
  },
  {
   "cell_type": "code",
   "execution_count": null,
   "id": "c7c11fdf",
   "metadata": {},
   "outputs": [],
   "source": [
    "mat2 = np.full((3, 2), 2)\n",
    "mat2"
   ]
  },
  {
   "cell_type": "code",
   "execution_count": null,
   "id": "9be02a43",
   "metadata": {},
   "outputs": [],
   "source": [
    "mat1 * mat2"
   ]
  },
  {
   "cell_type": "code",
   "execution_count": null,
   "id": "f4ae5754",
   "metadata": {},
   "outputs": [],
   "source": [
    "np.matmul(mat1, mat2)"
   ]
  },
  {
   "cell_type": "code",
   "execution_count": null,
   "id": "c7a18f4e",
   "metadata": {},
   "outputs": [],
   "source": [
    "# Find determinant\n",
    "np.linalg.det(np.random.randint(2, 100, size=(3,3)))"
   ]
  },
  {
   "cell_type": "markdown",
   "id": "5a5b0028",
   "metadata": {},
   "source": [
    "# Statistics"
   ]
  },
  {
   "cell_type": "code",
   "execution_count": null,
   "id": "1999aa42",
   "metadata": {},
   "outputs": [],
   "source": [
    "stats = np.array([[1, 2, 3],\n",
    "                  [4, 5, 6]])"
   ]
  },
  {
   "cell_type": "code",
   "execution_count": null,
   "id": "378334f2",
   "metadata": {},
   "outputs": [],
   "source": [
    "np.min(stats)"
   ]
  },
  {
   "cell_type": "code",
   "execution_count": null,
   "id": "e0a83fb5",
   "metadata": {},
   "outputs": [],
   "source": [
    "np.min(stats, axis=0)"
   ]
  },
  {
   "cell_type": "code",
   "execution_count": null,
   "id": "17b7324d",
   "metadata": {},
   "outputs": [],
   "source": [
    "np.min(stats, axis=1)"
   ]
  },
  {
   "cell_type": "code",
   "execution_count": null,
   "id": "5e686532",
   "metadata": {},
   "outputs": [],
   "source": [
    "np.max(stats)"
   ]
  },
  {
   "cell_type": "code",
   "execution_count": null,
   "id": "fe2f33e3",
   "metadata": {},
   "outputs": [],
   "source": [
    "np.sum(stats, axis=0)"
   ]
  },
  {
   "cell_type": "code",
   "execution_count": null,
   "id": "4a9690a9",
   "metadata": {},
   "outputs": [],
   "source": [
    "np.sum(stats, axis=1)"
   ]
  },
  {
   "cell_type": "markdown",
   "id": "38654903",
   "metadata": {},
   "source": [
    "# Reorganizing arrays"
   ]
  },
  {
   "cell_type": "code",
   "execution_count": null,
   "id": "fcadef90",
   "metadata": {},
   "outputs": [],
   "source": [
    "old_arr = np.array([[1, 2, 3, 4], \n",
    "                    [5, 6, 7, 8]])\n",
    "old_arr"
   ]
  },
  {
   "cell_type": "code",
   "execution_count": null,
   "id": "92bcfc2c",
   "metadata": {},
   "outputs": [],
   "source": [
    "old_arr.reshape((1, 8))"
   ]
  },
  {
   "cell_type": "code",
   "execution_count": null,
   "id": "4cb0beed",
   "metadata": {},
   "outputs": [],
   "source": [
    "old_arr.reshape((8, 1))"
   ]
  },
  {
   "cell_type": "code",
   "execution_count": null,
   "id": "ebefcb80",
   "metadata": {},
   "outputs": [],
   "source": [
    "old_arr.reshape((4, 2))"
   ]
  },
  {
   "cell_type": "code",
   "execution_count": null,
   "id": "8a3f1eba",
   "metadata": {},
   "outputs": [],
   "source": [
    "old_arr.reshape((2, 4))"
   ]
  },
  {
   "cell_type": "code",
   "execution_count": null,
   "id": "41560547",
   "metadata": {},
   "outputs": [],
   "source": [
    "old_arr.reshape((4, -1))"
   ]
  },
  {
   "cell_type": "code",
   "execution_count": null,
   "id": "b02c1ed3",
   "metadata": {},
   "outputs": [],
   "source": [
    "arr1 = np.array([1, 2, 3, 4])\n",
    "arr2 = np.array([5, 6, 7, 8])\n",
    "\n",
    "np.vstack([arr1, arr2])"
   ]
  },
  {
   "cell_type": "code",
   "execution_count": null,
   "id": "c9f35768",
   "metadata": {},
   "outputs": [],
   "source": []
  }
 ],
 "metadata": {
  "kernelspec": {
   "display_name": "Python 3 (ipykernel)",
   "language": "python",
   "name": "python3"
  },
  "language_info": {
   "codemirror_mode": {
    "name": "ipython",
    "version": 3
   },
   "file_extension": ".py",
   "mimetype": "text/x-python",
   "name": "python",
   "nbconvert_exporter": "python",
   "pygments_lexer": "ipython3",
   "version": "3.10.11"
  }
 },
 "nbformat": 4,
 "nbformat_minor": 5
}
