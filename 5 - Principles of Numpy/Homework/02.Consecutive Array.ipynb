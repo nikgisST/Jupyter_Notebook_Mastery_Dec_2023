{
 "cells": [
  {
   "cell_type": "code",
   "execution_count": 6,
   "id": "ce91eabf-0681-4276-85f4-8dbe8d54aa69",
   "metadata": {},
   "outputs": [],
   "source": [
    "import numpy as np"
   ]
  },
  {
   "cell_type": "code",
   "execution_count": 2,
   "id": "47a16bbb-2135-40c6-9275-f684525dfc11",
   "metadata": {},
   "outputs": [
    {
     "name": "stdin",
     "output_type": "stream",
     "text": [
      " 2\n"
     ]
    }
   ],
   "source": [
    "start_number = int(input())"
   ]
  },
  {
   "cell_type": "code",
   "execution_count": 3,
   "id": "375ab383-653c-4d8d-9ad3-799267b0e81f",
   "metadata": {},
   "outputs": [
    {
     "name": "stdin",
     "output_type": "stream",
     "text": [
      " 5\n"
     ]
    }
   ],
   "source": [
    "end_number = int(input())"
   ]
  },
  {
   "cell_type": "code",
   "execution_count": 4,
   "id": "a54b3a33-b76d-4da7-8377-98c4e82c09a3",
   "metadata": {},
   "outputs": [],
   "source": [
    "array = np.arange(start_number, end_number + 1)"
   ]
  },
  {
   "cell_type": "code",
   "execution_count": 5,
   "id": "ad7348a3-20cb-49ab-8d08-ad25db5e3893",
   "metadata": {},
   "outputs": [
    {
     "name": "stdout",
     "output_type": "stream",
     "text": [
      "[2 3 4 5]\n"
     ]
    }
   ],
   "source": [
    "print(array)"
   ]
  }
 ],
 "metadata": {
  "kernelspec": {
   "display_name": "Python 3 (ipykernel)",
   "language": "python",
   "name": "python3"
  },
  "language_info": {
   "codemirror_mode": {
    "name": "ipython",
    "version": 3
   },
   "file_extension": ".py",
   "mimetype": "text/x-python",
   "name": "python",
   "nbconvert_exporter": "python",
   "pygments_lexer": "ipython3",
   "version": "3.10.11"
  }
 },
 "nbformat": 4,
 "nbformat_minor": 5
}
