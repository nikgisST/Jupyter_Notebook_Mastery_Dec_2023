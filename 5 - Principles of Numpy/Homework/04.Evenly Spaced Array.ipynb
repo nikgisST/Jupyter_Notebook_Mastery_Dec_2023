{
 "cells": [
  {
   "cell_type": "code",
   "execution_count": null,
   "id": "2e1f6706-9753-45f8-854b-954716cbffcc",
   "metadata": {},
   "outputs": [],
   "source": [
    "import numpy as np"
   ]
  },
  {
   "cell_type": "code",
   "execution_count": 2,
   "id": "68884064-5a36-40cf-b315-5ebc2c0be036",
   "metadata": {},
   "outputs": [
    {
     "name": "stdin",
     "output_type": "stream",
     "text": [
      " 1\n"
     ]
    }
   ],
   "source": [
    "start = int(input())"
   ]
  },
  {
   "cell_type": "code",
   "execution_count": 3,
   "id": "6bb55eb7-bb15-4292-bef6-79863e4e7dc8",
   "metadata": {},
   "outputs": [
    {
     "name": "stdin",
     "output_type": "stream",
     "text": [
      " 10\n"
     ]
    }
   ],
   "source": [
    "stop = int(input())"
   ]
  },
  {
   "cell_type": "code",
   "execution_count": 4,
   "id": "ad670736-beca-4d49-9a4d-94fdfa88f3cb",
   "metadata": {},
   "outputs": [
    {
     "name": "stdin",
     "output_type": "stream",
     "text": [
      " 5\n"
     ]
    }
   ],
   "source": [
    "n = int(input())"
   ]
  },
  {
   "cell_type": "code",
   "execution_count": 6,
   "id": "57b17f56-f89e-4083-8eef-94e5a9538e86",
   "metadata": {},
   "outputs": [],
   "source": [
    "array = np.linspace(start, stop, n)"
   ]
  },
  {
   "cell_type": "code",
   "execution_count": 7,
   "id": "70d91368-c701-40b2-9d74-76fc358ac813",
   "metadata": {},
   "outputs": [
    {
     "name": "stdout",
     "output_type": "stream",
     "text": [
      "[ 1.    3.25  5.5   7.75 10.  ]\n"
     ]
    }
   ],
   "source": [
    "print(array)"
   ]
  }
 ],
 "metadata": {
  "kernelspec": {
   "display_name": "Python 3 (ipykernel)",
   "language": "python",
   "name": "python3"
  },
  "language_info": {
   "codemirror_mode": {
    "name": "ipython",
    "version": 3
   },
   "file_extension": ".py",
   "mimetype": "text/x-python",
   "name": "python",
   "nbconvert_exporter": "python",
   "pygments_lexer": "ipython3",
   "version": "3.10.11"
  }
 },
 "nbformat": 4,
 "nbformat_minor": 5
}
