{
 "cells": [
  {
   "cell_type": "code",
   "execution_count": 10,
   "id": "4e98833b",
   "metadata": {},
   "outputs": [],
   "source": [
    "import numpy as np\n",
    "import pandas as pd\n",
    "import matplotlib.pyplot as plt\n",
    "#import seaborn as sns\n",
    "%matplotlib inline"
   ]
  },
  {
   "cell_type": "markdown",
   "id": "d4334d73",
   "metadata": {},
   "source": [
    "<b><font color='#8B0000'>TASK</font></b>"
   ]
  },
  {
   "cell_type": "markdown",
   "id": "cbec8fee",
   "metadata": {},
   "source": [
    "Read the provided dataset and save it in the variable `dataset_exam`."
   ]
  },
  {
   "cell_type": "code",
   "execution_count": 11,
   "id": "67d63376",
   "metadata": {},
   "outputs": [],
   "source": [
    "# YOUR CODE HERE\n",
    "\n",
    "import datetime as dt"
   ]
  },
  {
   "cell_type": "code",
   "execution_count": 12,
   "id": "9d7e01b4",
   "metadata": {},
   "outputs": [
    {
     "name": "stdout",
     "output_type": "stream",
     "text": [
      "Helper cell - done. Please continue!\n"
     ]
    }
   ],
   "source": [
    "# HELPER CELL - RUN IT!\n",
    "\n",
    "print(\"Helper cell - done. Please continue!\")"
   ]
  },
  {
   "cell_type": "markdown",
   "id": "c1e85a28",
   "metadata": {},
   "source": [
    "## Tasks"
   ]
  },
  {
   "cell_type": "markdown",
   "id": "cacb16e4",
   "metadata": {},
   "source": [
    "1. Find the mean compleation rates across males and females.\n",
    "2. Investigate why the mean completion rates are so low.\n",
    "3. Find the correlation coefficients between the numerical variables.\n",
    "4. Find what variable is the most correlated with out target variable.\n",
    "5. Find the connection between birth rate and enrollment rate.\n",
    "5. Document your results."
   ]
  },
  {
   "cell_type": "markdown",
   "id": "36c09c97",
   "metadata": {},
   "source": [
    "# Read our data"
   ]
  },
  {
   "cell_type": "code",
   "execution_count": 15,
   "id": "f2f53f2e",
   "metadata": {},
   "outputs": [
    {
     "ename": "FileNotFoundError",
     "evalue": "[Errno 2] No such file or directory: './input/Global_Education.csv'",
     "output_type": "error",
     "traceback": [
      "\u001b[1;31m---------------------------------------------------------------------------\u001b[0m",
      "\u001b[1;31mFileNotFoundError\u001b[0m                         Traceback (most recent call last)",
      "Cell \u001b[1;32mIn[15], line 1\u001b[0m\n\u001b[1;32m----> 1\u001b[0m df \u001b[38;5;241m=\u001b[39m \u001b[43mpd\u001b[49m\u001b[38;5;241;43m.\u001b[39;49m\u001b[43mread_csv\u001b[49m\u001b[43m(\u001b[49m\u001b[38;5;124;43m'\u001b[39;49m\u001b[38;5;124;43m./input/Global_Education.csv\u001b[39;49m\u001b[38;5;124;43m'\u001b[39;49m\u001b[43m,\u001b[49m\u001b[43m \u001b[49m\u001b[43mencoding\u001b[49m\u001b[38;5;241;43m=\u001b[39;49m\u001b[38;5;124;43m'\u001b[39;49m\u001b[38;5;124;43mlatin-1\u001b[39;49m\u001b[38;5;124;43m'\u001b[39;49m\u001b[43m)\u001b[49m\n",
      "File \u001b[1;32m~\\AppData\\Local\\Packages\\PythonSoftwareFoundation.Python.3.10_qbz5n2kfra8p0\\LocalCache\\local-packages\\Python310\\site-packages\\pandas\\io\\parsers\\readers.py:948\u001b[0m, in \u001b[0;36mread_csv\u001b[1;34m(filepath_or_buffer, sep, delimiter, header, names, index_col, usecols, dtype, engine, converters, true_values, false_values, skipinitialspace, skiprows, skipfooter, nrows, na_values, keep_default_na, na_filter, verbose, skip_blank_lines, parse_dates, infer_datetime_format, keep_date_col, date_parser, date_format, dayfirst, cache_dates, iterator, chunksize, compression, thousands, decimal, lineterminator, quotechar, quoting, doublequote, escapechar, comment, encoding, encoding_errors, dialect, on_bad_lines, delim_whitespace, low_memory, memory_map, float_precision, storage_options, dtype_backend)\u001b[0m\n\u001b[0;32m    935\u001b[0m kwds_defaults \u001b[38;5;241m=\u001b[39m _refine_defaults_read(\n\u001b[0;32m    936\u001b[0m     dialect,\n\u001b[0;32m    937\u001b[0m     delimiter,\n\u001b[1;32m   (...)\u001b[0m\n\u001b[0;32m    944\u001b[0m     dtype_backend\u001b[38;5;241m=\u001b[39mdtype_backend,\n\u001b[0;32m    945\u001b[0m )\n\u001b[0;32m    946\u001b[0m kwds\u001b[38;5;241m.\u001b[39mupdate(kwds_defaults)\n\u001b[1;32m--> 948\u001b[0m \u001b[38;5;28;01mreturn\u001b[39;00m \u001b[43m_read\u001b[49m\u001b[43m(\u001b[49m\u001b[43mfilepath_or_buffer\u001b[49m\u001b[43m,\u001b[49m\u001b[43m \u001b[49m\u001b[43mkwds\u001b[49m\u001b[43m)\u001b[49m\n",
      "File \u001b[1;32m~\\AppData\\Local\\Packages\\PythonSoftwareFoundation.Python.3.10_qbz5n2kfra8p0\\LocalCache\\local-packages\\Python310\\site-packages\\pandas\\io\\parsers\\readers.py:611\u001b[0m, in \u001b[0;36m_read\u001b[1;34m(filepath_or_buffer, kwds)\u001b[0m\n\u001b[0;32m    608\u001b[0m _validate_names(kwds\u001b[38;5;241m.\u001b[39mget(\u001b[38;5;124m\"\u001b[39m\u001b[38;5;124mnames\u001b[39m\u001b[38;5;124m\"\u001b[39m, \u001b[38;5;28;01mNone\u001b[39;00m))\n\u001b[0;32m    610\u001b[0m \u001b[38;5;66;03m# Create the parser.\u001b[39;00m\n\u001b[1;32m--> 611\u001b[0m parser \u001b[38;5;241m=\u001b[39m TextFileReader(filepath_or_buffer, \u001b[38;5;241m*\u001b[39m\u001b[38;5;241m*\u001b[39mkwds)\n\u001b[0;32m    613\u001b[0m \u001b[38;5;28;01mif\u001b[39;00m chunksize \u001b[38;5;129;01mor\u001b[39;00m iterator:\n\u001b[0;32m    614\u001b[0m     \u001b[38;5;28;01mreturn\u001b[39;00m parser\n",
      "File \u001b[1;32m~\\AppData\\Local\\Packages\\PythonSoftwareFoundation.Python.3.10_qbz5n2kfra8p0\\LocalCache\\local-packages\\Python310\\site-packages\\pandas\\io\\parsers\\readers.py:1448\u001b[0m, in \u001b[0;36mTextFileReader.__init__\u001b[1;34m(self, f, engine, **kwds)\u001b[0m\n\u001b[0;32m   1445\u001b[0m     \u001b[38;5;28mself\u001b[39m\u001b[38;5;241m.\u001b[39moptions[\u001b[38;5;124m\"\u001b[39m\u001b[38;5;124mhas_index_names\u001b[39m\u001b[38;5;124m\"\u001b[39m] \u001b[38;5;241m=\u001b[39m kwds[\u001b[38;5;124m\"\u001b[39m\u001b[38;5;124mhas_index_names\u001b[39m\u001b[38;5;124m\"\u001b[39m]\n\u001b[0;32m   1447\u001b[0m \u001b[38;5;28mself\u001b[39m\u001b[38;5;241m.\u001b[39mhandles: IOHandles \u001b[38;5;241m|\u001b[39m \u001b[38;5;28;01mNone\u001b[39;00m \u001b[38;5;241m=\u001b[39m \u001b[38;5;28;01mNone\u001b[39;00m\n\u001b[1;32m-> 1448\u001b[0m \u001b[38;5;28mself\u001b[39m\u001b[38;5;241m.\u001b[39m_engine \u001b[38;5;241m=\u001b[39m \u001b[38;5;28;43mself\u001b[39;49m\u001b[38;5;241;43m.\u001b[39;49m\u001b[43m_make_engine\u001b[49m\u001b[43m(\u001b[49m\u001b[43mf\u001b[49m\u001b[43m,\u001b[49m\u001b[43m \u001b[49m\u001b[38;5;28;43mself\u001b[39;49m\u001b[38;5;241;43m.\u001b[39;49m\u001b[43mengine\u001b[49m\u001b[43m)\u001b[49m\n",
      "File \u001b[1;32m~\\AppData\\Local\\Packages\\PythonSoftwareFoundation.Python.3.10_qbz5n2kfra8p0\\LocalCache\\local-packages\\Python310\\site-packages\\pandas\\io\\parsers\\readers.py:1705\u001b[0m, in \u001b[0;36mTextFileReader._make_engine\u001b[1;34m(self, f, engine)\u001b[0m\n\u001b[0;32m   1703\u001b[0m     \u001b[38;5;28;01mif\u001b[39;00m \u001b[38;5;124m\"\u001b[39m\u001b[38;5;124mb\u001b[39m\u001b[38;5;124m\"\u001b[39m \u001b[38;5;129;01mnot\u001b[39;00m \u001b[38;5;129;01min\u001b[39;00m mode:\n\u001b[0;32m   1704\u001b[0m         mode \u001b[38;5;241m+\u001b[39m\u001b[38;5;241m=\u001b[39m \u001b[38;5;124m\"\u001b[39m\u001b[38;5;124mb\u001b[39m\u001b[38;5;124m\"\u001b[39m\n\u001b[1;32m-> 1705\u001b[0m \u001b[38;5;28mself\u001b[39m\u001b[38;5;241m.\u001b[39mhandles \u001b[38;5;241m=\u001b[39m \u001b[43mget_handle\u001b[49m\u001b[43m(\u001b[49m\n\u001b[0;32m   1706\u001b[0m \u001b[43m    \u001b[49m\u001b[43mf\u001b[49m\u001b[43m,\u001b[49m\n\u001b[0;32m   1707\u001b[0m \u001b[43m    \u001b[49m\u001b[43mmode\u001b[49m\u001b[43m,\u001b[49m\n\u001b[0;32m   1708\u001b[0m \u001b[43m    \u001b[49m\u001b[43mencoding\u001b[49m\u001b[38;5;241;43m=\u001b[39;49m\u001b[38;5;28;43mself\u001b[39;49m\u001b[38;5;241;43m.\u001b[39;49m\u001b[43moptions\u001b[49m\u001b[38;5;241;43m.\u001b[39;49m\u001b[43mget\u001b[49m\u001b[43m(\u001b[49m\u001b[38;5;124;43m\"\u001b[39;49m\u001b[38;5;124;43mencoding\u001b[39;49m\u001b[38;5;124;43m\"\u001b[39;49m\u001b[43m,\u001b[49m\u001b[43m \u001b[49m\u001b[38;5;28;43;01mNone\u001b[39;49;00m\u001b[43m)\u001b[49m\u001b[43m,\u001b[49m\n\u001b[0;32m   1709\u001b[0m \u001b[43m    \u001b[49m\u001b[43mcompression\u001b[49m\u001b[38;5;241;43m=\u001b[39;49m\u001b[38;5;28;43mself\u001b[39;49m\u001b[38;5;241;43m.\u001b[39;49m\u001b[43moptions\u001b[49m\u001b[38;5;241;43m.\u001b[39;49m\u001b[43mget\u001b[49m\u001b[43m(\u001b[49m\u001b[38;5;124;43m\"\u001b[39;49m\u001b[38;5;124;43mcompression\u001b[39;49m\u001b[38;5;124;43m\"\u001b[39;49m\u001b[43m,\u001b[49m\u001b[43m \u001b[49m\u001b[38;5;28;43;01mNone\u001b[39;49;00m\u001b[43m)\u001b[49m\u001b[43m,\u001b[49m\n\u001b[0;32m   1710\u001b[0m \u001b[43m    \u001b[49m\u001b[43mmemory_map\u001b[49m\u001b[38;5;241;43m=\u001b[39;49m\u001b[38;5;28;43mself\u001b[39;49m\u001b[38;5;241;43m.\u001b[39;49m\u001b[43moptions\u001b[49m\u001b[38;5;241;43m.\u001b[39;49m\u001b[43mget\u001b[49m\u001b[43m(\u001b[49m\u001b[38;5;124;43m\"\u001b[39;49m\u001b[38;5;124;43mmemory_map\u001b[39;49m\u001b[38;5;124;43m\"\u001b[39;49m\u001b[43m,\u001b[49m\u001b[43m \u001b[49m\u001b[38;5;28;43;01mFalse\u001b[39;49;00m\u001b[43m)\u001b[49m\u001b[43m,\u001b[49m\n\u001b[0;32m   1711\u001b[0m \u001b[43m    \u001b[49m\u001b[43mis_text\u001b[49m\u001b[38;5;241;43m=\u001b[39;49m\u001b[43mis_text\u001b[49m\u001b[43m,\u001b[49m\n\u001b[0;32m   1712\u001b[0m \u001b[43m    \u001b[49m\u001b[43merrors\u001b[49m\u001b[38;5;241;43m=\u001b[39;49m\u001b[38;5;28;43mself\u001b[39;49m\u001b[38;5;241;43m.\u001b[39;49m\u001b[43moptions\u001b[49m\u001b[38;5;241;43m.\u001b[39;49m\u001b[43mget\u001b[49m\u001b[43m(\u001b[49m\u001b[38;5;124;43m\"\u001b[39;49m\u001b[38;5;124;43mencoding_errors\u001b[39;49m\u001b[38;5;124;43m\"\u001b[39;49m\u001b[43m,\u001b[49m\u001b[43m \u001b[49m\u001b[38;5;124;43m\"\u001b[39;49m\u001b[38;5;124;43mstrict\u001b[39;49m\u001b[38;5;124;43m\"\u001b[39;49m\u001b[43m)\u001b[49m\u001b[43m,\u001b[49m\n\u001b[0;32m   1713\u001b[0m \u001b[43m    \u001b[49m\u001b[43mstorage_options\u001b[49m\u001b[38;5;241;43m=\u001b[39;49m\u001b[38;5;28;43mself\u001b[39;49m\u001b[38;5;241;43m.\u001b[39;49m\u001b[43moptions\u001b[49m\u001b[38;5;241;43m.\u001b[39;49m\u001b[43mget\u001b[49m\u001b[43m(\u001b[49m\u001b[38;5;124;43m\"\u001b[39;49m\u001b[38;5;124;43mstorage_options\u001b[39;49m\u001b[38;5;124;43m\"\u001b[39;49m\u001b[43m,\u001b[49m\u001b[43m \u001b[49m\u001b[38;5;28;43;01mNone\u001b[39;49;00m\u001b[43m)\u001b[49m\u001b[43m,\u001b[49m\n\u001b[0;32m   1714\u001b[0m \u001b[43m\u001b[49m\u001b[43m)\u001b[49m\n\u001b[0;32m   1715\u001b[0m \u001b[38;5;28;01massert\u001b[39;00m \u001b[38;5;28mself\u001b[39m\u001b[38;5;241m.\u001b[39mhandles \u001b[38;5;129;01mis\u001b[39;00m \u001b[38;5;129;01mnot\u001b[39;00m \u001b[38;5;28;01mNone\u001b[39;00m\n\u001b[0;32m   1716\u001b[0m f \u001b[38;5;241m=\u001b[39m \u001b[38;5;28mself\u001b[39m\u001b[38;5;241m.\u001b[39mhandles\u001b[38;5;241m.\u001b[39mhandle\n",
      "File \u001b[1;32m~\\AppData\\Local\\Packages\\PythonSoftwareFoundation.Python.3.10_qbz5n2kfra8p0\\LocalCache\\local-packages\\Python310\\site-packages\\pandas\\io\\common.py:863\u001b[0m, in \u001b[0;36mget_handle\u001b[1;34m(path_or_buf, mode, encoding, compression, memory_map, is_text, errors, storage_options)\u001b[0m\n\u001b[0;32m    858\u001b[0m \u001b[38;5;28;01melif\u001b[39;00m \u001b[38;5;28misinstance\u001b[39m(handle, \u001b[38;5;28mstr\u001b[39m):\n\u001b[0;32m    859\u001b[0m     \u001b[38;5;66;03m# Check whether the filename is to be opened in binary mode.\u001b[39;00m\n\u001b[0;32m    860\u001b[0m     \u001b[38;5;66;03m# Binary mode does not support 'encoding' and 'newline'.\u001b[39;00m\n\u001b[0;32m    861\u001b[0m     \u001b[38;5;28;01mif\u001b[39;00m ioargs\u001b[38;5;241m.\u001b[39mencoding \u001b[38;5;129;01mand\u001b[39;00m \u001b[38;5;124m\"\u001b[39m\u001b[38;5;124mb\u001b[39m\u001b[38;5;124m\"\u001b[39m \u001b[38;5;129;01mnot\u001b[39;00m \u001b[38;5;129;01min\u001b[39;00m ioargs\u001b[38;5;241m.\u001b[39mmode:\n\u001b[0;32m    862\u001b[0m         \u001b[38;5;66;03m# Encoding\u001b[39;00m\n\u001b[1;32m--> 863\u001b[0m         handle \u001b[38;5;241m=\u001b[39m \u001b[38;5;28;43mopen\u001b[39;49m\u001b[43m(\u001b[49m\n\u001b[0;32m    864\u001b[0m \u001b[43m            \u001b[49m\u001b[43mhandle\u001b[49m\u001b[43m,\u001b[49m\n\u001b[0;32m    865\u001b[0m \u001b[43m            \u001b[49m\u001b[43mioargs\u001b[49m\u001b[38;5;241;43m.\u001b[39;49m\u001b[43mmode\u001b[49m\u001b[43m,\u001b[49m\n\u001b[0;32m    866\u001b[0m \u001b[43m            \u001b[49m\u001b[43mencoding\u001b[49m\u001b[38;5;241;43m=\u001b[39;49m\u001b[43mioargs\u001b[49m\u001b[38;5;241;43m.\u001b[39;49m\u001b[43mencoding\u001b[49m\u001b[43m,\u001b[49m\n\u001b[0;32m    867\u001b[0m \u001b[43m            \u001b[49m\u001b[43merrors\u001b[49m\u001b[38;5;241;43m=\u001b[39;49m\u001b[43merrors\u001b[49m\u001b[43m,\u001b[49m\n\u001b[0;32m    868\u001b[0m \u001b[43m            \u001b[49m\u001b[43mnewline\u001b[49m\u001b[38;5;241;43m=\u001b[39;49m\u001b[38;5;124;43m\"\u001b[39;49m\u001b[38;5;124;43m\"\u001b[39;49m\u001b[43m,\u001b[49m\n\u001b[0;32m    869\u001b[0m \u001b[43m        \u001b[49m\u001b[43m)\u001b[49m\n\u001b[0;32m    870\u001b[0m     \u001b[38;5;28;01melse\u001b[39;00m:\n\u001b[0;32m    871\u001b[0m         \u001b[38;5;66;03m# Binary mode\u001b[39;00m\n\u001b[0;32m    872\u001b[0m         handle \u001b[38;5;241m=\u001b[39m \u001b[38;5;28mopen\u001b[39m(handle, ioargs\u001b[38;5;241m.\u001b[39mmode)\n",
      "\u001b[1;31mFileNotFoundError\u001b[0m: [Errno 2] No such file or directory: './input/Global_Education.csv'"
     ]
    }
   ],
   "source": [
    "df = pd.read_csv('./input/Global_Education.csv', encoding='latin-1')"
   ]
  },
  {
   "cell_type": "code",
   "execution_count": null,
   "id": "ca8841e0",
   "metadata": {},
   "outputs": [],
   "source": [
    "df.info()"
   ]
  },
  {
   "cell_type": "markdown",
   "id": "e4a79921",
   "metadata": {},
   "source": [
    "# Fix columns"
   ]
  },
  {
   "cell_type": "code",
   "execution_count": null,
   "id": "47c2ddff",
   "metadata": {},
   "outputs": [],
   "source": [
    "df.columns"
   ]
  },
  {
   "cell_type": "code",
   "execution_count": null,
   "id": "5c6201c6",
   "metadata": {},
   "outputs": [],
   "source": [
    "df.columns = df.columns.str.replace(\" \", \"_\")"
   ]
  },
  {
   "cell_type": "code",
   "execution_count": null,
   "id": "a27c6de3",
   "metadata": {},
   "outputs": [],
   "source": [
    "df.columns"
   ]
  },
  {
   "cell_type": "markdown",
   "id": "9fdfd20b",
   "metadata": {},
   "source": [
    "# Drop unnecessary data"
   ]
  },
  {
   "cell_type": "code",
   "execution_count": null,
   "id": "c0ab8efd",
   "metadata": {},
   "outputs": [],
   "source": [
    "df.drop([\"Latitude_\", \"Longitude\"], axis=1, inplace=True)"
   ]
  },
  {
   "cell_type": "markdown",
   "id": "c60a1b20",
   "metadata": {},
   "source": [
    "# Derive basic statistics"
   ]
  },
  {
   "cell_type": "code",
   "execution_count": null,
   "id": "6aeadaff",
   "metadata": {},
   "outputs": [],
   "source": [
    "statistics_df = df.describe()"
   ]
  },
  {
   "cell_type": "code",
   "execution_count": null,
   "id": "df7080f0",
   "metadata": {},
   "outputs": [],
   "source": [
    "statistics_df"
   ]
  },
  {
   "cell_type": "markdown",
   "id": "60cb637d",
   "metadata": {},
   "source": [
    "# Find number of rows and columns"
   ]
  },
  {
   "cell_type": "code",
   "execution_count": null,
   "id": "93039859",
   "metadata": {},
   "outputs": [],
   "source": [
    "rows = df.shape[0]\n",
    "cols = df.shape[1]"
   ]
  },
  {
   "cell_type": "code",
   "execution_count": null,
   "id": "625f0402",
   "metadata": {},
   "outputs": [],
   "source": [
    "print(f\"Number of rows: {rows}, number of columns: {cols}\")"
   ]
  },
  {
   "cell_type": "markdown",
   "id": "e9b405cf",
   "metadata": {},
   "source": [
    "# Find missing values"
   ]
  },
  {
   "cell_type": "code",
   "execution_count": 9,
   "id": "adb3d77f",
   "metadata": {
    "scrolled": true
   },
   "outputs": [
    {
     "ename": "NameError",
     "evalue": "name 'df' is not defined",
     "output_type": "error",
     "traceback": [
      "\u001b[1;31m---------------------------------------------------------------------------\u001b[0m",
      "\u001b[1;31mNameError\u001b[0m                                 Traceback (most recent call last)",
      "Cell \u001b[1;32mIn[9], line 1\u001b[0m\n\u001b[1;32m----> 1\u001b[0m \u001b[38;5;28;01mfor\u001b[39;00m col \u001b[38;5;129;01min\u001b[39;00m \u001b[43mdf\u001b[49m\u001b[38;5;241m.\u001b[39mcolumns:\n\u001b[0;32m      2\u001b[0m     \u001b[38;5;28;01mif\u001b[39;00m df[col]\u001b[38;5;241m.\u001b[39misna()\u001b[38;5;241m.\u001b[39many():\n\u001b[0;32m      3\u001b[0m         null_rate \u001b[38;5;241m=\u001b[39m df[col]\u001b[38;5;241m.\u001b[39misna()\u001b[38;5;241m.\u001b[39msum() \u001b[38;5;241m/\u001b[39m \u001b[38;5;28mlen\u001b[39m(df[col])\n",
      "\u001b[1;31mNameError\u001b[0m: name 'df' is not defined"
     ]
    }
   ],
   "source": [
    "for col in df.columns:\n",
    "    if df[col].isna().any():\n",
    "        null_rate = df[col].isna().sum() / len(df[col])\n",
    "        print(f'{col} null rate: {null_rate:.4f}')"
   ]
  },
  {
   "cell_type": "markdown",
   "id": "a3489042",
   "metadata": {},
   "source": [
    "# Deal with missing values"
   ]
  },
  {
   "cell_type": "code",
   "execution_count": null,
   "id": "2de1ada2",
   "metadata": {},
   "outputs": [],
   "source": [
    "for col in df.columns:\n",
    "    if df[col].isna().any():\n",
    "        mode = df[col].mode()[0]\n",
    "        df[col] = df[col].fillna(mode)"
   ]
  },
  {
   "cell_type": "markdown",
   "id": "8ce829e9",
   "metadata": {},
   "source": [
    "# Find duplicates"
   ]
  },
  {
   "cell_type": "code",
   "execution_count": null,
   "id": "69498782",
   "metadata": {},
   "outputs": [],
   "source": [
    "df.duplicated().any()"
   ]
  },
  {
   "cell_type": "code",
   "execution_count": null,
   "id": "8819b304",
   "metadata": {},
   "outputs": [],
   "source": [
    "drop_duplicates()"
   ]
  },
  {
   "cell_type": "markdown",
   "id": "b19ba762",
   "metadata": {},
   "source": [
    "# New DataFrame"
   ]
  },
  {
   "cell_type": "code",
   "execution_count": null,
   "id": "8fc40f40",
   "metadata": {},
   "outputs": [],
   "source": [
    "completion_columns = df.columns[df.columns.str.startswith(\"Completion\")]"
   ]
  },
  {
   "cell_type": "code",
   "execution_count": null,
   "id": "703e5b1b",
   "metadata": {},
   "outputs": [],
   "source": [
    "completion_columns"
   ]
  },
  {
   "cell_type": "code",
   "execution_count": null,
   "id": "0604adb2",
   "metadata": {},
   "outputs": [],
   "source": [
    "completion_rates_by_country = df.groupby(by='Countries_and_areas')[completion_columns].mean()"
   ]
  },
  {
   "cell_type": "code",
   "execution_count": null,
   "id": "401079af",
   "metadata": {},
   "outputs": [],
   "source": [
    "completion_rates_by_country"
   ]
  },
  {
   "cell_type": "code",
   "execution_count": null,
   "id": "84ec9881",
   "metadata": {},
   "outputs": [],
   "source": [
    "completion_rates_by_country[\"Average_completion_rate\"] = completion_rates_by_country.mean(axis=1)"
   ]
  },
  {
   "cell_type": "code",
   "execution_count": null,
   "id": "7ac6e94a",
   "metadata": {},
   "outputs": [],
   "source": [
    "completion_rates_by_country"
   ]
  },
  {
   "cell_type": "markdown",
   "id": "340f7131",
   "metadata": {},
   "source": [
    "# Top 10 countries"
   ]
  },
  {
   "cell_type": "code",
   "execution_count": null,
   "id": "8435909a",
   "metadata": {},
   "outputs": [],
   "source": [
    "sorted_completion_rates = completion_rates_by_country.sort_values(by=\"Average_completion_rate\", ascending=False)"
   ]
  },
  {
   "cell_type": "code",
   "execution_count": null,
   "id": "2c2cb95f",
   "metadata": {},
   "outputs": [],
   "source": [
    "top_10_countries = sorted_completion_rates.head(10)\n",
    "bottom_10_countries = sorted_completion_rates.tail(10)"
   ]
  },
  {
   "cell_type": "code",
   "execution_count": null,
   "id": "7797b7ec",
   "metadata": {},
   "outputs": [],
   "source": [
    "#top_10_countries = completion_rates_by_country.nlargest(10, \"Average_completion_rate\")\n",
    "#bottom_10_countries = completion_rates_by_country.nsmallest(10, \"Average_completion_rate\"))"
   ]
  },
  {
   "cell_type": "code",
   "execution_count": null,
   "id": "2589f320",
   "metadata": {},
   "outputs": [],
   "source": [
    "plt.barh(top_10_countries.index.values[::-1], top_10_countries[\"Average_completion_rate\"][::-1])\n",
    "plt.title(\"Top 10 countries by average completion rate\")\n",
    "plt.show()"
   ]
  },
  {
   "cell_type": "code",
   "execution_count": null,
   "id": "21affd29",
   "metadata": {},
   "outputs": [],
   "source": [
    "male_columns_completion = df.columns[(df.columns.str.startswith(\"Completion\")) & (df.columns.str.endswith(\"Male\"))]\n",
    "female_columns_completion = df.columns[(df.columns.str.startswith(\"Completion\")) & (df.columns.str.endswith(\"Female\"))]"
   ]
  },
  {
   "cell_type": "code",
   "execution_count": null,
   "id": "5211e56e",
   "metadata": {},
   "outputs": [],
   "source": [
    "male_columns_completion"
   ]
  },
  {
   "cell_type": "code",
   "execution_count": null,
   "id": "157b0be6",
   "metadata": {},
   "outputs": [],
   "source": [
    "df[male_columns_completion].mean()"
   ]
  },
  {
   "cell_type": "code",
   "execution_count": null,
   "id": "e36fcd7e",
   "metadata": {},
   "outputs": [],
   "source": [
    "df[female_columns_completion].mean()"
   ]
  },
  {
   "cell_type": "markdown",
   "id": "8521317f",
   "metadata": {},
   "source": [
    "# Discover outliers"
   ]
  },
  {
   "cell_type": "code",
   "execution_count": null,
   "id": "8753594f",
   "metadata": {},
   "outputs": [],
   "source": [
    "df['Completion_Rate_Primary_Male'].value_counts()"
   ]
  },
  {
   "cell_type": "code",
   "execution_count": null,
   "id": "bcafdf05",
   "metadata": {},
   "outputs": [],
   "source": [
    "df[female_columns_completion].mean()"
   ]
  },
  {
   "cell_type": "code",
   "execution_count": null,
   "id": "17dfac13",
   "metadata": {},
   "outputs": [],
   "source": [
    "df['Completion_Rate_Primary_Female'].value_counts()"
   ]
  },
  {
   "cell_type": "markdown",
   "id": "472ad721",
   "metadata": {},
   "source": [
    "We observed that average completion rate is oddly low. Therefore, we plot our variables to find out what is happening."
   ]
  },
  {
   "cell_type": "code",
   "execution_count": null,
   "id": "4d2defb3",
   "metadata": {},
   "outputs": [],
   "source": [
    "female_completion_rate_scores = df[female_columns_completion[0]].value_counts().index.values\n",
    "female_completion_rate_count = df[female_columns_completion[0]].value_counts().values"
   ]
  },
  {
   "cell_type": "code",
   "execution_count": null,
   "id": "acd04f1b",
   "metadata": {},
   "outputs": [],
   "source": [
    "plt.scatter(female_completion_rate_scores, female_completion_rate_count)\n",
    "plt.title(\"Distribution of female completion rate (primary)\")\n",
    "plt.xlabel(\"Score\")\n",
    "plt.ylabel(\"Frequency\")\n",
    "plt.show()"
   ]
  },
  {
   "cell_type": "code",
   "execution_count": null,
   "id": "dd19a87c",
   "metadata": {},
   "outputs": [],
   "source": [
    "#numerics = ['int16', 'int32', 'int64', 'float16', 'float32', 'float64']\n",
    "#df.select_dtypes(include=numerics)"
   ]
  },
  {
   "cell_type": "markdown",
   "id": "0119d877",
   "metadata": {},
   "source": [
    "# Numerical columns"
   ]
  },
  {
   "cell_type": "code",
   "execution_count": null,
   "id": "4e729e71",
   "metadata": {},
   "outputs": [],
   "source": [
    "numerical_df = df.select_dtypes(include='number')"
   ]
  },
  {
   "cell_type": "code",
   "execution_count": null,
   "id": "1d2e6832",
   "metadata": {},
   "outputs": [],
   "source": [
    "numerical_df.info()"
   ]
  },
  {
   "cell_type": "markdown",
   "id": "93bd3013",
   "metadata": {},
   "source": [
    "# Correlation between variables"
   ]
  },
  {
   "cell_type": "code",
   "execution_count": null,
   "id": "6850ee7e",
   "metadata": {},
   "outputs": [],
   "source": [
    "corr_matrix = numerical_df.corr()\n",
    "corr_matrix"
   ]
  },
  {
   "cell_type": "code",
   "execution_count": null,
   "id": "07234156",
   "metadata": {},
   "outputs": [],
   "source": [
    "# try annot=True\n",
    "sns.heatmap(corr_matrix)\n",
    "plt.show()"
   ]
  },
  {
   "cell_type": "markdown",
   "id": "069d4e21",
   "metadata": {},
   "source": [
    "# Unemployment drivers"
   ]
  },
  {
   "cell_type": "code",
   "execution_count": null,
   "id": "10fca87b",
   "metadata": {},
   "outputs": [],
   "source": [
    "corr_matrix['Unemployment_Rate'].sort_values(ascending=False)"
   ]
  },
  {
   "cell_type": "code",
   "execution_count": null,
   "id": "6f1b9bd1",
   "metadata": {},
   "outputs": [],
   "source": [
    "absolute_unemployment_drivers = corr_matrix['Unemployment_Rate'].abs().sort_values(ascending=False)\n",
    "absolute_unemployment_drivers"
   ]
  },
  {
   "cell_type": "code",
   "execution_count": null,
   "id": "4cd8632f",
   "metadata": {},
   "outputs": [],
   "source": [
    "plt.scatter(df[\"Unemployment_Rate\"], df[\"Completion_Rate_Lower_Secondary_Female\"])\n",
    "plt.title(\"Unemployment rate VS Completion rate of secondary education (female)\")\n",
    "plt.xlabel(\"Unemployment_rate\")\n",
    "plt.ylabel(\"Completion_Rate_Lower_Secondary_Female\")\n",
    "plt.show()"
   ]
  },
  {
   "cell_type": "code",
   "execution_count": null,
   "id": "0383b83e",
   "metadata": {},
   "outputs": [],
   "source": [
    "#absolute_unemployment_drivers.drop(\"Unemployment_Rate\", inplace=True)"
   ]
  },
  {
   "cell_type": "code",
   "execution_count": null,
   "id": "73c44e73",
   "metadata": {},
   "outputs": [],
   "source": [
    "top_5_drivers = absolute_unemployment_drivers.head(6).index.values\n",
    "top_5_drivers"
   ]
  },
  {
   "cell_type": "code",
   "execution_count": null,
   "id": "21577ba6",
   "metadata": {},
   "outputs": [],
   "source": [
    "top_5_corr_matrix = df[top_5_drivers].corr()"
   ]
  },
  {
   "cell_type": "code",
   "execution_count": null,
   "id": "55e09419",
   "metadata": {},
   "outputs": [],
   "source": [
    "sns.heatmap(top_5_corr_matrix, annot=True)\n",
    "plt.show()"
   ]
  },
  {
   "cell_type": "markdown",
   "id": "ef0099f2",
   "metadata": {},
   "source": [
    "# Unemployment by country"
   ]
  },
  {
   "cell_type": "code",
   "execution_count": null,
   "id": "78a58403",
   "metadata": {},
   "outputs": [],
   "source": [
    "mean_unemployment_by_country = df.groupby(by='Countries_and_areas')['Unemployment_Rate'].mean()"
   ]
  },
  {
   "cell_type": "code",
   "execution_count": null,
   "id": "4a2e7478",
   "metadata": {},
   "outputs": [],
   "source": [
    "top_15_countries = mean_unemployment_by_country.nlargest(n=15)\n",
    "top_15_countries"
   ]
  },
  {
   "cell_type": "code",
   "execution_count": null,
   "id": "5ade1514",
   "metadata": {},
   "outputs": [],
   "source": [
    "color_map = ['#9ad6aa' for col in range(15)]\n",
    "color_map[0] = color_map[1] = color_map[2] = '#32a852'"
   ]
  },
  {
   "cell_type": "code",
   "execution_count": null,
   "id": "72041cf7",
   "metadata": {},
   "outputs": [],
   "source": [
    "plt.figure(figsize=(9, 7), dpi=300)\n",
    "plt.barh(top_15_countries.index.values[::-1], top_15_countries.values[::-1], color=color_map[::-1])\n",
    "plt.title(\"Top 15 countries by unemployment rate\")\n",
    "plt.xlabel(\"Unemployment rate\")\n",
    "plt.show()"
   ]
  },
  {
   "cell_type": "markdown",
   "id": "220d2109",
   "metadata": {},
   "source": [
    "# Birth rate and enrollment"
   ]
  },
  {
   "cell_type": "code",
   "execution_count": null,
   "id": "5605fbf3",
   "metadata": {},
   "outputs": [],
   "source": [
    "plt.figure(layout='constrained')\n",
    "plt.scatter(df.Birth_Rate, df.Gross_Tertiary_Education_Enrollment, label='Gross_Tertiary_Education_Enrollment')\n",
    "plt.scatter(df.Birth_Rate, df.Gross_Primary_Education_Enrollment, label='Gross_Primary_Education_Enrollment')\n",
    "plt.title(\"Birth rate VS enrollment\")\n",
    "plt.xlabel(\"Birth rate\")\n",
    "plt.legend(loc='upper left')\n",
    "plt.show()"
   ]
  },
  {
   "cell_type": "markdown",
   "id": "ee5f0027",
   "metadata": {},
   "source": [
    "# Documentation"
   ]
  }
 ],
 "metadata": {
  "kernelspec": {
   "display_name": "Python 3 (ipykernel)",
   "language": "python",
   "name": "python3"
  },
  "language_info": {
   "codemirror_mode": {
    "name": "ipython",
    "version": 3
   },
   "file_extension": ".py",
   "mimetype": "text/x-python",
   "name": "python",
   "nbconvert_exporter": "python",
   "pygments_lexer": "ipython3",
   "version": "3.10.11"
  }
 },
 "nbformat": 4,
 "nbformat_minor": 5
}
