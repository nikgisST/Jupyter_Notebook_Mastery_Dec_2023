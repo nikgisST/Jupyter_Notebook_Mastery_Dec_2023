{
 "cells": [
  {
   "cell_type": "code",
   "execution_count": 1,
   "id": "56ef1e57-aa63-4868-b185-d303d05aca60",
   "metadata": {},
   "outputs": [],
   "source": [
    "import pandas as pd"
   ]
  },
  {
   "cell_type": "code",
   "execution_count": 2,
   "id": "3bc324f5-2759-425b-9c83-5a8d99e7b821",
   "metadata": {},
   "outputs": [
    {
     "name": "stdin",
     "output_type": "stream",
     "text": [
      "give number:  2\n"
     ]
    }
   ],
   "source": [
    "n = int(input(\"give number: \"))"
   ]
  },
  {
   "cell_type": "code",
   "execution_count": 3,
   "id": "142e6089-6aa8-4d40-97f2-bccbfa5a3460",
   "metadata": {},
   "outputs": [
    {
     "name": "stdin",
     "output_type": "stream",
     "text": [
      " 1\n",
      " 1\n"
     ]
    }
   ],
   "source": [
    "numbers = [int(input()) for _ in range(n)]"
   ]
  },
  {
   "cell_type": "code",
   "execution_count": 4,
   "id": "5a7a30b5-78a1-4efa-ba0a-b34528197b5e",
   "metadata": {},
   "outputs": [],
   "source": [
    "number_series = pd.Series(numbers)\n"
   ]
  },
  {
   "cell_type": "code",
   "execution_count": 5,
   "id": "a985b8f0-ad35-402d-88cf-7267f8408ac2",
   "metadata": {},
   "outputs": [],
   "source": [
    "no_duplicates = number_series.drop_duplicates()"
   ]
  },
  {
   "cell_type": "code",
   "execution_count": 6,
   "id": "79c875e1-9040-41c7-ae06-7085add2e86f",
   "metadata": {},
   "outputs": [
    {
     "name": "stdout",
     "output_type": "stream",
     "text": [
      "0    1\n",
      "dtype: int64\n"
     ]
    }
   ],
   "source": [
    "print(no_duplicates)"
   ]
  }
 ],
 "metadata": {
  "kernelspec": {
   "display_name": "Python 3 (ipykernel)",
   "language": "python",
   "name": "python3"
  },
  "language_info": {
   "codemirror_mode": {
    "name": "ipython",
    "version": 3
   },
   "file_extension": ".py",
   "mimetype": "text/x-python",
   "name": "python",
   "nbconvert_exporter": "python",
   "pygments_lexer": "ipython3",
   "version": "3.10.11"
  }
 },
 "nbformat": 4,
 "nbformat_minor": 5
}
