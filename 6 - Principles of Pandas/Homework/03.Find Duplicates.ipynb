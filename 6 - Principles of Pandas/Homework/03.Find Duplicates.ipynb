{
 "cells": [
  {
   "cell_type": "code",
   "execution_count": 1,
   "id": "0a768745-9924-4094-ae0f-03fd771575d8",
   "metadata": {},
   "outputs": [],
   "source": [
    "import pandas as pd"
   ]
  },
  {
   "cell_type": "code",
   "execution_count": 2,
   "id": "67a5e29a-6ed6-41d1-b25e-5ee2c991a279",
   "metadata": {},
   "outputs": [
    {
     "name": "stdin",
     "output_type": "stream",
     "text": [
      "Enter the count of numbers (n):  2\n"
     ]
    }
   ],
   "source": [
    "n = int(input(\"Enter the count of numbers (n): \"))"
   ]
  },
  {
   "cell_type": "code",
   "execution_count": 3,
   "id": "7885b0f3-4e2a-404e-aba8-5779678dd6f9",
   "metadata": {},
   "outputs": [
    {
     "name": "stdin",
     "output_type": "stream",
     "text": [
      " 3\n",
      " 3\n"
     ]
    }
   ],
   "source": [
    "numbers = [int(input()) for _ in range(n)]"
   ]
  },
  {
   "cell_type": "code",
   "execution_count": 7,
   "id": "2eaba712-f51d-479f-8a9a-ff97a1fbdacd",
   "metadata": {},
   "outputs": [],
   "source": [
    "number_series = pd.Series(numbers)"
   ]
  },
  {
   "cell_type": "code",
   "execution_count": 8,
   "id": "7df5d218-3277-4f90-9983-952a0edb9249",
   "metadata": {},
   "outputs": [],
   "source": [
    "duplicates = number_series.duplicated().any()"
   ]
  },
  {
   "cell_type": "code",
   "execution_count": 13,
   "id": "abcf397c-e86a-40f5-a40e-7e320efd3713",
   "metadata": {},
   "outputs": [
    {
     "name": "stdout",
     "output_type": "stream",
     "text": [
      "Does the Pandas Series have duplicates? True\n"
     ]
    }
   ],
   "source": [
    "print(f\"Does the Pandas Series have duplicates? {duplicates}\")"
   ]
  }
 ],
 "metadata": {
  "kernelspec": {
   "display_name": "Python 3 (ipykernel)",
   "language": "python",
   "name": "python3"
  },
  "language_info": {
   "codemirror_mode": {
    "name": "ipython",
    "version": 3
   },
   "file_extension": ".py",
   "mimetype": "text/x-python",
   "name": "python",
   "nbconvert_exporter": "python",
   "pygments_lexer": "ipython3",
   "version": "3.10.11"
  }
 },
 "nbformat": 4,
 "nbformat_minor": 5
}
