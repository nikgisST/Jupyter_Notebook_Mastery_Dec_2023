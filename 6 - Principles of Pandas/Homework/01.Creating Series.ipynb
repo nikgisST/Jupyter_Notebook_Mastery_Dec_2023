{
 "cells": [
  {
   "cell_type": "code",
   "execution_count": 1,
   "id": "4355a69e-9583-4c69-95a2-ed31cd360eda",
   "metadata": {},
   "outputs": [],
   "source": [
    "import pandas as pd"
   ]
  },
  {
   "cell_type": "code",
   "execution_count": 2,
   "id": "1bb52ac1-6f36-4a62-a96e-e4127e91a62a",
   "metadata": {},
   "outputs": [
    {
     "name": "stdin",
     "output_type": "stream",
     "text": [
      " 2\n"
     ]
    }
   ],
   "source": [
    "n = int(input())"
   ]
  },
  {
   "cell_type": "code",
   "execution_count": 3,
   "id": "2d691c54-4d5c-4ff9-8ff7-ddd9458a3dcf",
   "metadata": {},
   "outputs": [
    {
     "name": "stdin",
     "output_type": "stream",
     "text": [
      " 5\n",
      " 6\n"
     ]
    }
   ],
   "source": [
    "numbers = [int(input()) for _ in range(n)]"
   ]
  },
  {
   "cell_type": "code",
   "execution_count": 4,
   "id": "bdeb293e-6d4f-448e-b99c-0d3efb281d35",
   "metadata": {},
   "outputs": [],
   "source": [
    "number_series = pd.Series(numbers)"
   ]
  },
  {
   "cell_type": "code",
   "execution_count": 5,
   "id": "a50ebd45-5186-49b6-8b13-aa980683d05d",
   "metadata": {},
   "outputs": [
    {
     "name": "stdout",
     "output_type": "stream",
     "text": [
      "0    5\n",
      "1    6\n",
      "dtype: int64\n"
     ]
    }
   ],
   "source": [
    "print(number_series)"
   ]
  }
 ],
 "metadata": {
  "kernelspec": {
   "display_name": "Python 3 (ipykernel)",
   "language": "python",
   "name": "python3"
  },
  "language_info": {
   "codemirror_mode": {
    "name": "ipython",
    "version": 3
   },
   "file_extension": ".py",
   "mimetype": "text/x-python",
   "name": "python",
   "nbconvert_exporter": "python",
   "pygments_lexer": "ipython3",
   "version": "3.10.11"
  }
 },
 "nbformat": 4,
 "nbformat_minor": 5
}
