{
 "cells": [
  {
   "cell_type": "code",
   "execution_count": 1,
   "id": "f68a341a-b401-4d57-8585-9e171def8554",
   "metadata": {},
   "outputs": [],
   "source": [
    "import pandas as pd"
   ]
  },
  {
   "cell_type": "code",
   "execution_count": 2,
   "id": "ec202760-4a2e-41ad-a409-4a2b08f95a82",
   "metadata": {},
   "outputs": [
    {
     "name": "stdin",
     "output_type": "stream",
     "text": [
      " 2\n"
     ]
    }
   ],
   "source": [
    "n = int(input())"
   ]
  },
  {
   "cell_type": "code",
   "execution_count": 3,
   "id": "429b9fed-698e-400c-806f-c12751f62421",
   "metadata": {},
   "outputs": [
    {
     "name": "stdin",
     "output_type": "stream",
     "text": [
      " 3\n",
      " 4\n"
     ]
    }
   ],
   "source": [
    "numbers = [int(input()) for _ in range(n)]"
   ]
  },
  {
   "cell_type": "code",
   "execution_count": 4,
   "id": "93aea07e-153a-440a-8db8-6db86423772b",
   "metadata": {},
   "outputs": [],
   "source": [
    "number_series = pd.Series(numbers)"
   ]
  },
  {
   "cell_type": "code",
   "execution_count": 5,
   "id": "7b20b104-7fa1-415c-bbd3-bc02271c9795",
   "metadata": {},
   "outputs": [],
   "source": [
    "number_series *= 2"
   ]
  },
  {
   "cell_type": "code",
   "execution_count": 6,
   "id": "1064aa47-1946-436d-8354-01ce37368607",
   "metadata": {},
   "outputs": [
    {
     "name": "stdout",
     "output_type": "stream",
     "text": [
      "0    6\n",
      "1    8\n",
      "dtype: int64\n"
     ]
    }
   ],
   "source": [
    "print(number_series)"
   ]
  }
 ],
 "metadata": {
  "kernelspec": {
   "display_name": "Python 3 (ipykernel)",
   "language": "python",
   "name": "python3"
  },
  "language_info": {
   "codemirror_mode": {
    "name": "ipython",
    "version": 3
   },
   "file_extension": ".py",
   "mimetype": "text/x-python",
   "name": "python",
   "nbconvert_exporter": "python",
   "pygments_lexer": "ipython3",
   "version": "3.10.11"
  }
 },
 "nbformat": 4,
 "nbformat_minor": 5
}
