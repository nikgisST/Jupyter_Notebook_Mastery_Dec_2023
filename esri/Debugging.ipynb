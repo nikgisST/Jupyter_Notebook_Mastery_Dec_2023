{
 "cells": [
  {
   "cell_type": "markdown",
   "metadata": {},
   "source": [
    "#Assign variables to parameters for the Multiple Ring Buffer geoprocessing tool\n"
   ]
  },
  {
   "cell_type": "markdown",
   "metadata": {},
   "source": [
    "#Import module"
   ]
  },
  {
   "cell_type": "code",
   "execution_count": 6,
   "metadata": {},
   "outputs": [],
   "source": [
    "import statistics"
   ]
  },
  {
   "cell_type": "code",
   "execution_count": 7,
   "metadata": {},
   "outputs": [],
   "source": [
    "inputFC = r\"C:\\EsriTraining\\PythEveryone\\HandleErrors\\SanDiego.gdb\\SD_Stream\"\n",
    "outputFC = \"StreamBuffers\"\n",
    "bufferField = \"BufferDistance\"\n",
    "bufferUnit = \"Feet\"\n",
    "dissolveType = \"ALL\""
   ]
  },
  {
   "cell_type": "markdown",
   "metadata": {},
   "source": [
    "#Assign variables to collections of distance values"
   ]
  },
  {
   "cell_type": "code",
   "execution_count": 8,
   "metadata": {},
   "outputs": [],
   "source": [
    "samplesA = [95, 99, 105, 106, 110]\n",
    "samplesB = [451, 485, 502, 520, 535]\n",
    "samplesC = [910, 945, 996, 1055, 1120]"
   ]
  },
  {
   "cell_type": "markdown",
   "metadata": {},
   "source": [
    "#Use the statistics module to find the mean of each collection\n",
    "#Generate a list of mean distance parameters to use in a buffer analysis"
   ]
  },
  {
   "cell_type": "code",
   "execution_count": 9,
   "metadata": {
    "scrolled": false
   },
   "outputs": [
    {
     "name": "stdout",
     "output_type": "stream",
     "text": [
      "[95, 99, 105, 106, 110] is processing\n",
      "[451, 485, 502, 520, 535] is processing\n",
      "[910, 945, 996, 1055, 1120] is processing\n",
      "[103, 498.6, 1005.2]\n"
     ]
    }
   ],
   "source": [
    "sampleMeans = [samplesA, samplesB, samplesC]\n",
    "buffDists = []\n",
    "for values in sampleMeans:\n",
    "    print(str(values) + \" is processing\")\n",
    "    meanValue = statistics.mean(values)\n",
    "    buffDists.append(meanValue)\n",
    "print(buffDists)"
   ]
  },
  {
   "cell_type": "markdown",
   "metadata": {},
   "source": [
    "#Use the Multiple Ring Buffer geoprocessing tool"
   ]
  },
  {
   "cell_type": "code",
   "execution_count": 10,
   "metadata": {
    "scrolled": true
   },
   "outputs": [
    {
     "data": {
      "text/html": [
       "<div class='gpresult'><h2>Messages</h2><div id='messages' data-messages='[\"Start Time: 22 януари 2024 г. 17:05:06\",\"Succeeded at 22 януари 2024 г. 17:05:14 (Elapsed Time: 7,70 seconds)\"]' data-show='true'><div id = 'default' /></div></div>"
      ],
      "text/plain": [
       "<Result 'D:\\\\ESRI\\\\24E - Python for Everyone\\\\PythEveryone\\\\HandleErrors\\\\SanDiego.gdb\\\\StreamBuffers'>"
      ]
     },
     "execution_count": 10,
     "metadata": {},
     "output_type": "execute_result"
    }
   ],
   "source": [
    "arcpy.analysis.MultipleRingBuffer(inputFC, outputFC, buffDists, bufferUnit, bufferField, dissolveType)"
   ]
  }
 ],
 "metadata": {
  "kernelspec": {
   "display_name": "ArcGISPro",
   "language": "Python",
   "name": "python3"
  },
  "language_info": {
   "file_extension": ".py",
   "name": "python",
   "version": "3"
  }
 },
 "nbformat": 4,
 "nbformat_minor": 2
}
