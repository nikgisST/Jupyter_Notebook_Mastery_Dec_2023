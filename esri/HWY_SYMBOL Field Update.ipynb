{
 "cells": [
  {
   "cell_type": "markdown",
   "metadata": {},
   "source": [
    "#Assign variables"
   ]
  },
  {
   "cell_type": "code",
   "execution_count": 1,
   "metadata": {},
   "outputs": [],
   "source": [
    "fc = \"Highways\"  \n",
    "fields = arcpy.ListFields(fc)  \n",
    "fieldName = \"HWY_SYMBOL\""
   ]
  },
  {
   "cell_type": "markdown",
   "metadata": {},
   "source": [
    "#Use a for-loop and the Calculate Field tool to update values in the HWY_SYMBOL field"
   ]
  },
  {
   "cell_type": "code",
   "execution_count": 2,
   "metadata": {},
   "outputs": [],
   "source": [
    "for field in fields:  \n",
    "    if field.name == fieldName:\n",
    "        arcpy.management.CalculateField(fc, fieldName, \"'Highway ' + !HWY_SYMBOL!\")\n",
    "    else:\n",
    "        pass\n",
    "    "
   ]
  }
 ],
 "metadata": {
  "kernelspec": {
   "display_name": "ArcGISPro",
   "language": "Python",
   "name": "python3"
  },
  "language_info": {
   "file_extension": ".py",
   "name": "python",
   "version": "3"
  }
 },
 "nbformat": 4,
 "nbformat_minor": 2
}
