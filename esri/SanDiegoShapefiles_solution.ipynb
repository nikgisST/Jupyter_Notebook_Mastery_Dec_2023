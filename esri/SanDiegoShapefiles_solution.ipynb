{
 "cells": [
  {
   "cell_type": "markdown",
   "metadata": {},
   "source": [
    "#Assign variables to the shapefiles"
   ]
  },
  {
   "cell_type": "code",
   "execution_count": 6,
   "metadata": {},
   "outputs": [],
   "source": [
    "park = \"Parks_sd.shp\"\n",
    "school = \"Schools_sd.shp\"\n",
    "sewer = \"Sewer_Main_sd.shp\""
   ]
  },
  {
   "cell_type": "markdown",
   "metadata": {},
   "source": [
    "#Create a list of shapefile variables"
   ]
  },
  {
   "cell_type": "code",
   "execution_count": 7,
   "metadata": {},
   "outputs": [],
   "source": [
    "shapeList = [park, school, sewer]"
   ]
  },
  {
   "cell_type": "markdown",
   "metadata": {},
   "source": [
    "#Create a text file which will contain updated shapefile names"
   ]
  },
  {
   "cell_type": "code",
   "execution_count": 8,
   "metadata": {},
   "outputs": [],
   "source": [
    "path = r\"C:\\EsriTraining\\PythEveryone\\CreatingDataTypes\\SanDiegoUpd.txt\"\n",
    "file = open(path, 'w')"
   ]
  },
  {
   "cell_type": "markdown",
   "metadata": {},
   "source": [
    "#Update the names of the shapefiles in shapefile list"
   ]
  },
  {
   "cell_type": "code",
   "execution_count": 9,
   "metadata": {},
   "outputs": [
    {
     "name": "stdout",
     "output_type": "stream",
     "text": [
      "Parks_sd.shp\n",
      "Parks_SD.shp\n",
      "Schools_sd.shp\n",
      "Schools_SD.shp\n",
      "Sewer_Main_sd.shp\n",
      "Sewer_Main_SD.shp\n"
     ]
    }
   ],
   "source": [
    "for shp in shapeList:\n",
    "    print(shp)\n",
    "    shp = shp.replace(\"sd\", \"SD\")\n",
    "    print(shp)\n",
    "    file.write(shp + \"\\n\")\n",
    "    \n",
    "file.close()"
   ]
  },
  {
   "cell_type": "code",
   "execution_count": null,
   "metadata": {},
   "outputs": [],
   "source": []
  }
 ],
 "metadata": {
  "kernelspec": {
   "display_name": "ArcGISPro",
   "language": "Python",
   "name": "python3"
  },
  "language_info": {
   "file_extension": ".py",
   "name": "python",
   "version": "3"
  }
 },
 "nbformat": 4,
 "nbformat_minor": 2
}
